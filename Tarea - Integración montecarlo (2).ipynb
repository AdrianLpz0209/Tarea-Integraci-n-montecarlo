{
 "cells": [
  {
   "cell_type": "markdown",
   "metadata": {},
   "source": [
    "# TAREA"
   ]
  },
  {
   "cell_type": "markdown",
   "metadata": {},
   "source": [
    "## Integración Montecarlo"
   ]
  },
  {
   "cell_type": "markdown",
   "metadata": {},
   "source": [
    "1. Realizar las siguientes integrales. Poner los resultados en una tabla cuyas filas correspondan a la cantidad de términos utilizados en la aproximación (usar 10, 100, 1000, 10000 y 100000 términos) y cuyas columnas correspondan a las funciones.\n",
    "    + $\\int_{1}^{3} e^{x}\\log(x)\\text{d}x$.\n",
    "    + $\\int_1^3 \\sin(x)\\ln(x) \\text{d}x$"
   ]
  },
  {
   "cell_type": "code",
   "execution_count": 29,
   "metadata": {},
   "outputs": [],
   "source": [
    "import random\n",
    "import numpy as np \n",
    "import pandas as pd "
   ]
  },
  {
   "cell_type": "code",
   "execution_count": 48,
   "metadata": {},
   "outputs": [],
   "source": [
    "def f1(x) :\n",
    "    return ( np.exp(x)*np.log(x) )\n",
    "\n",
    "def f2(x) :\n",
    "    return ( np.sin(x)*np.log(x) )\n",
    "\n",
    "N = np.logspace(1, 5, 5)\n",
    "chrt = pd.DataFrame(index = N, columns = ['Aprox. Función 1', 'Error 1', 'Aprox. Función 2', 'Error 2'])\n",
    "\n"
   ]
  },
  {
   "cell_type": "code",
   "execution_count": 51,
   "metadata": {},
   "outputs": [
    {
     "data": {
      "text/html": [
       "<div>\n",
       "<style scoped>\n",
       "    .dataframe tbody tr th:only-of-type {\n",
       "        vertical-align: middle;\n",
       "    }\n",
       "\n",
       "    .dataframe tbody tr th {\n",
       "        vertical-align: top;\n",
       "    }\n",
       "\n",
       "    .dataframe thead th {\n",
       "        text-align: right;\n",
       "    }\n",
       "</style>\n",
       "<table border=\"1\" class=\"dataframe\">\n",
       "  <thead>\n",
       "    <tr style=\"text-align: right;\">\n",
       "      <th></th>\n",
       "      <th>Aprox. Función 1</th>\n",
       "      <th>Error 1</th>\n",
       "      <th>Aprox. Función 2</th>\n",
       "      <th>Error 2</th>\n",
       "    </tr>\n",
       "  </thead>\n",
       "  <tbody>\n",
       "    <tr>\n",
       "      <th>10.0</th>\n",
       "      <td>18.293481</td>\n",
       "      <td>4.273481</td>\n",
       "      <td>0.679298</td>\n",
       "      <td>0.180702</td>\n",
       "    </tr>\n",
       "    <tr>\n",
       "      <th>100.0</th>\n",
       "      <td>13.891507</td>\n",
       "      <td>0.128493</td>\n",
       "      <td>0.893295</td>\n",
       "      <td>0.033295</td>\n",
       "    </tr>\n",
       "    <tr>\n",
       "      <th>1000.0</th>\n",
       "      <td>14.659324</td>\n",
       "      <td>0.639324</td>\n",
       "      <td>0.874359</td>\n",
       "      <td>0.014359</td>\n",
       "    </tr>\n",
       "    <tr>\n",
       "      <th>10000.0</th>\n",
       "      <td>14.342922</td>\n",
       "      <td>0.322922</td>\n",
       "      <td>0.872924</td>\n",
       "      <td>0.012924</td>\n",
       "    </tr>\n",
       "    <tr>\n",
       "      <th>100000.0</th>\n",
       "      <td>14.069229</td>\n",
       "      <td>0.049229</td>\n",
       "      <td>0.868773</td>\n",
       "      <td>0.008773</td>\n",
       "    </tr>\n",
       "  </tbody>\n",
       "</table>\n",
       "</div>"
      ],
      "text/plain": [
       "         Aprox. Función 1   Error 1 Aprox. Función 2   Error 2\n",
       "10.0            18.293481  4.273481         0.679298  0.180702\n",
       "100.0           13.891507  0.128493         0.893295  0.033295\n",
       "1000.0          14.659324  0.639324         0.874359  0.014359\n",
       "10000.0         14.342922  0.322922         0.872924  0.012924\n",
       "100000.0        14.069229  0.049229         0.868773  0.008773"
      ]
     },
     "execution_count": 51,
     "metadata": {},
     "output_type": "execute_result"
    }
   ],
   "source": [
    "\n",
    "def montecarlo(f, N, a, b,) :\n",
    "    u = np.random.uniform(a, b, round(N))\n",
    "    return np.mean(f(u)) * (b - a)\n",
    "\n",
    "for i in N :\n",
    "    chrt.loc[i, 'Aprox. Función 1'] = montecarlo(f1, float(i), 1, 3)\n",
    "    chrt['Error 1'] = np.abs( 14.02 - chrt['Aprox. Función 1'])\n",
    "    chrt.loc[i, 'Aprox. Función 2'] = montecarlo(f2, float(i), 1, 3)\n",
    "    chrt['Error 2'] = np.abs( 0.86 - chrt['Aprox. Función 2'])\n",
    "chrt"
   ]
  },
  {
   "cell_type": "code",
   "execution_count": null,
   "metadata": {},
   "outputs": [],
   "source": []
  },
  {
   "cell_type": "code",
   "execution_count": null,
   "metadata": {},
   "outputs": [],
   "source": []
  },
  {
   "cell_type": "markdown",
   "metadata": {},
   "source": [
    "2. Aproximar el área de la región descrita por\n",
    "\n",
    "$$x^2+2y^2\\leq-2x+8y-7$$\n",
    "\n",
    "Poner los resultados en una tabla cuyas filas correspondan a la cantidad de términos utilizados en la aproximación (usar 10, 100, 1000, 10000 y 100000 términos) y en las columnas el valor de aproximación y el error relativo.\n",
    "\n",
    "Definir unos límites adecuados $a_1$, $b_1$, $a_2$ y $b_2$, para la región $R=\\left[a_1,b_1\\right]\\times\\left[a_2,b_2\\right]$"
   ]
  },
  {
   "cell_type": "code",
   "execution_count": 57,
   "metadata": {},
   "outputs": [
    {
     "data": {
      "text/plain": [
       "<matplotlib.collections.PathCollection at 0x7f9845b832e0>"
      ]
     },
     "execution_count": 57,
     "metadata": {},
     "output_type": "execute_result"
    },
    {
     "data": {
      "image/png": "[encoded data removed]",
      "text/plain": [
       "<Figure size 432x288 with 1 Axes>"
      ]
     },
     "metadata": {
      "needs_background": "light"
     },
     "output_type": "display_data"
    }
   ],
   "source": [
    "import random\n",
    "import numpy as np\n",
    "import matplotlib.pyplot as plt\n",
    "%matplotlib inline\n",
    "\n",
    "def bernoulli(x,y) :\n",
    "    return (x**2 + 2*y**2 ) <= ( -2*x + 8*y - 7)\n",
    "def montecarlo(r, ax, bx, ay, by, n) :\n",
    "    x = np.random.uniform(ax, bx, n)\n",
    "    y = np.random.uniform(ay, by, n)\n",
    "    b = r(x,y)\n",
    "    ar = (bx - ax ) * (by - ay)\n",
    "    return np.mean(b)*ar\n",
    "\n",
    "n = 100\n",
    "x = np.random.uniform(-3.5,1, n)\n",
    "y = np.random.uniform(1, 3.5, n)\n",
    "X, Y = np.meshgrid(x,y)\n",
    "plt.figure()\n",
    "plt.scatter(X,Y, c= bernoulli(X, Y))"
   ]
  },
  {
   "cell_type": "markdown",
   "metadata": {},
   "source": [
    "## Aproximaciones "
   ]
  },
  {
   "cell_type": "code",
   "execution_count": 63,
   "metadata": {},
   "outputs": [
    {
     "data": {
      "text/plain": [
       "5.4"
      ]
     },
     "execution_count": 63,
     "metadata": {},
     "output_type": "execute_result"
    }
   ],
   "source": [
    "montecarlo(bernoulli, -3.5, 1, 0.5, 3.5, 10)"
   ]
  },
  {
   "cell_type": "code",
   "execution_count": 64,
   "metadata": {},
   "outputs": [
    {
     "data": {
      "text/plain": [
       "4.05"
      ]
     },
     "execution_count": 64,
     "metadata": {},
     "output_type": "execute_result"
    }
   ],
   "source": [
    "montecarlo(bernoulli, -3.5, 1, 0.5, 3.5, 100)"
   ]
  },
  {
   "cell_type": "code",
   "execution_count": 65,
   "metadata": {},
   "outputs": [
    {
     "data": {
      "text/plain": [
       "4.428"
      ]
     },
     "execution_count": 65,
     "metadata": {},
     "output_type": "execute_result"
    }
   ],
   "source": [
    "montecarlo(bernoulli, -3.5, 1, 0.5, 3.5, 1000)"
   ]
  },
  {
   "cell_type": "code",
   "execution_count": 66,
   "metadata": {},
   "outputs": [
    {
     "data": {
      "text/plain": [
       "4.4523"
      ]
     },
     "execution_count": 66,
     "metadata": {},
     "output_type": "execute_result"
    }
   ],
   "source": [
    "montecarlo(bernoulli, -3.5, 1, 0.5, 3.5, 10000)"
   ]
  },
  {
   "cell_type": "code",
   "execution_count": 67,
   "metadata": {},
   "outputs": [
    {
     "data": {
      "text/plain": [
       "4.437855"
      ]
     },
     "execution_count": 67,
     "metadata": {},
     "output_type": "execute_result"
    }
   ],
   "source": [
    "montecarlo(bernoulli, -3.5, 1, 0.5, 3.5, 100000)"
   ]
  },
  {
   "cell_type": "markdown",
   "metadata": {},
   "source": [
    "Podemos concluir que la aproximación más precisa de nuestra área dada por la función $$ x^2 + 2y^2 \\leq -2x + 8y -7 $$ es de 4.437855 unidades cuadradas ya que estamos hablando de **área**"
   ]
  },
  {
   "cell_type": "markdown",
   "metadata": {},
   "source": [
    "3. Describe 3 casos de uso de integración Montecarlo en tu ingeniería."
   ]
  },
  {
   "cell_type": "markdown",
   "metadata": {},
   "source": [
    "### Primer caso"
   ]
  },
  {
   "attachments": {},
   "cell_type": "markdown",
   "metadata": {},
   "source": [
    "¿Cómo elegir entre dos opcions de inversión?\n",
    "* Este proceso se puede utilizar en el caso de la \"Rentabilidad de proyectos\" donde se calcula el TIR y el VAN para poder determinar si es intereasante realizar la inversión. Por medio el proceo de Montecarlo se puede realizar lo que es VAN con la siguiente fórmula :\n",
    "\n",
    "![Alt text](https://blog.selfbank.es/wp-content/uploads/2015/06/post1.jpg)\n",
    "\n",
    "* Y también se usa en el calculo de el TIR :\n",
    "![Alt text](https://blog.selfbank.es/wp-content/uploads/2015/06/post2.jpg)\n",
    "\n"
   ]
  },
  {
   "cell_type": "markdown",
   "metadata": {},
   "source": [
    "### Segundo caso "
   ]
  },
  {
   "cell_type": "markdown",
   "metadata": {},
   "source": [
    "REISGOS\n",
    "* El proceso monecarlo también se puede usar para lo que es la estimación de los riesgos. Existen 2 elementos básicos en la estimación; uno, la probabilidad de que ocurra tal evento y lo que es la gravedad. "
   ]
  },
  {
   "cell_type": "markdown",
   "metadata": {},
   "source": [
    "## Tercer caso"
   ]
  },
  {
   "attachments": {},
   "cell_type": "markdown",
   "metadata": {},
   "source": [
    "Análisis de opciones\n",
    "* Una opción se puede definir como un instrumento financiero en el que su rendimiento depende de lo que es otro ien o activo que se conoce como subyacente.\n",
    "* La aplicación en el análisis de opciones es de la siguiente manera :\n",
    "![Alt text](https://www.google.com/url?sa=i&url=https%3A%2F%2Fdocplayer.es%2F8065804-El-metodo-monte-carlo-y-su-aplicacion-a-finanzas.html&psig=AOvVaw2RbDPXLkzqiTvbX84uQKo9&ust=1666667726910000&source=images&cd=vfe&ved=0CA0QjRxqFwoTCOD28aDz9_oCFQAAAAAdAAAAABAg)\n"
   ]
  },
  {
   "cell_type": "code",
   "execution_count": null,
   "metadata": {},
   "outputs": [],
   "source": []
  }
 ],
 "metadata": {
  "kernelspec": {
   "display_name": "Python 3 (ipykernel)",
   "language": "python",
   "name": "python3"
  },
  "language_info": {
   "codemirror_mode": {
    "name": "ipython",
    "version": 3
   },
   "file_extension": ".py",
   "mimetype": "text/x-python",
   "name": "python",
   "nbconvert_exporter": "python",
   "pygments_lexer": "ipython3",
   "version": "3.9.12"
  }
 },
 "nbformat": 4,
 "nbformat_minor": 2
}
